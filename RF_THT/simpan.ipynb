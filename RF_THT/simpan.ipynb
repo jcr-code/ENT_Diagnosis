{
 "cells": [
  {
   "cell_type": "code",
   "execution_count": null,
   "metadata": {},
   "outputs": [],
   "source": [
    "# rf_classifier = RandomForestClassifier(n_estimators=100)\n",
    "feature_selector = FeatureSelector2(estimator=Stratforest3 , feature_importances=importances3)\n",
    "# Fit the FeatureSelector using Sequential Forward Selection (SFS) or Sequential Backward Selection (SBS)\n",
    "feature_selector.fit(X_train3, y_train3, method='sfs')  # You can change the method to 'sbs' for backward selection\n",
    "# Get the selected features\n",
    "selected_features = feature_selector.selected_features_\n",
    "print(\"Selected features:\", selected_features)"
   ]
  },
  {
   "cell_type": "code",
   "execution_count": null,
   "metadata": {},
   "outputs": [],
   "source": [
    "# rf_classifier = RandomForestClassifier(n_estimators=100)\n",
    "feature_selector = FeatureSelector2(estimator=Stratforest3 , feature_importances=importances3)\n",
    "# Fit the FeatureSelector using Sequential Forward Selection (SFS) or Sequential Backward Selection (SBS)\n",
    "feature_selector.fit(X_train3, y_train3, method='sbs')  # You can change the method to 'sbs' for backward selection\n",
    "# Get the selected features\n",
    "selected_features = feature_selector.selected_features_\n",
    "print(\"Selected features:\", selected_features)"
   ]
  },
  {
   "cell_type": "code",
   "execution_count": null,
   "metadata": {},
   "outputs": [],
   "source": [
    "# rf_classifier = RandomForestClassifier(n_estimators=100)\n",
    "feature_selector = FeatureSelector2(estimator=Stratforest3 , feature_importances=importances3)\n",
    "# Fit the FeatureSelector using Sequential Forward Selection (SFS) or Sequential Backward Selection (SBS)\n",
    "feature_selector.fit(X_train3, y_train3, method='sfs')  # You can change the method to 'sbs' for backward selection\n",
    "# Get the selected features\n",
    "selected_features = feature_selector.selected_features_\n",
    "print(\"Selected features:\", selected_features)"
   ]
  },
  {
   "cell_type": "code",
   "execution_count": null,
   "metadata": {},
   "outputs": [],
   "source": [
    "# rf_classifier = RandomForestClassifier(n_estimators=100)\n",
    "feature_selector = FeatureSelector2(estimator=Stratforest3 , feature_importances=importances3)\n",
    "# Fit the FeatureSelector using Sequential Forward Selection (SFS) or Sequential Backward Selection (SBS)\n",
    "feature_selector.fit(X_train3, y_train3, method='sbs')  # You can change the method to 'sbs' for backward selection\n",
    "# Get the selected features\n",
    "selected_features = feature_selector.selected_features_\n",
    "print(\"Selected features:\", selected_features)"
   ]
  }
 ],
 "metadata": {
  "language_info": {
   "name": "python"
  }
 },
 "nbformat": 4,
 "nbformat_minor": 2
}
